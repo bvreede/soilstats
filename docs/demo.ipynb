{
 "cells": [
  {
   "cell_type": "markdown",
   "metadata": {},
   "source": [
    "## SoilStats demo\n",
    "\n",
    "With `soilstats`, you can easily retrieve datasets from [the SoilGrids REST API](https://rest.isric.org/soilgrids/v2.0/), and use them to calculate soil properties. This notebook shows how to do this.\n",
    "\n",
    "### Set up a collection\n",
    "\n",
    "In this example, we want to collect 50 data points from within the grid (56.225297, 8.662215), (55.958103, 9.354390).\n",
    "In other words: the latitude boundaries are 55.958103 and 56.225297, and the longitude boundaries are 8.662215 and 9.354390.\n",
    "\n",
    "The data we want to collect is for clay, sand, silt, and ocs, and we want to collect it for the top layers of the soil (0-30cm).\n",
    "There are various depths available in the SoilGrids API that meet that range: 0-5cm, 5-15cm, 15-30cm, and 0-30cm.\n",
    "The value we are interested in is the mean.\n",
    "\n",
    "To set up the collection, we use the `SoilCollect` class from `soilstats`:"
   ]
  },
  {
   "cell_type": "code",
   "execution_count": 1,
   "metadata": {},
   "outputs": [],
   "source": [
    "from soilstats import SoilCollect as sc\n",
    "\n",
    "# Create a SoilCollect object\n",
    "collect = sc(\n",
    "   lat_bounds = [56.225297, 55.958103],\n",
    "   lon_bounds = [8.662215, 9.354390],\n",
    "   properties = ['clay', 'sand', 'silt', 'ocs'],\n",
    "   depths = ['0-5cm', '5-15cm', '15-30cm', '0-30cm'],\n",
    "   values = 'mean',\n",
    "   n = 50\n",
    ")"
   ]
  },
  {
   "cell_type": "markdown",
   "metadata": {},
   "source": [
    "This setup prepares the collection.\n",
    "We can manually verify the setup by looking at the URLs for each data point:"
   ]
  },
  {
   "cell_type": "code",
   "execution_count": 2,
   "metadata": {},
   "outputs": [
    {
     "data": {
      "text/plain": [
       "['https://rest.isric.org/soilgrids/v2.0/properties/query?lon=9.208731567334121&lat=55.97950897417508&property=clay&property=sand&property=silt&property=ocs&depth=0-5cm&depth=5-15cm&depth=15-30cm&depth=0-30cm&value=mean',\n",
       " 'https://rest.isric.org/soilgrids/v2.0/properties/query?lon=9.144549067984933&lat=56.119503043452404&property=clay&property=sand&property=silt&property=ocs&depth=0-5cm&depth=5-15cm&depth=15-30cm&depth=0-30cm&value=mean',\n",
       " 'https://rest.isric.org/soilgrids/v2.0/properties/query?lon=8.904997017519737&lat=56.22014397312186&property=clay&property=sand&property=silt&property=ocs&depth=0-5cm&depth=5-15cm&depth=15-30cm&depth=0-30cm&value=mean',\n",
       " 'https://rest.isric.org/soilgrids/v2.0/properties/query?lon=9.005866662100203&lat=56.14485639479264&property=clay&property=sand&property=silt&property=ocs&depth=0-5cm&depth=5-15cm&depth=15-30cm&depth=0-30cm&value=mean',\n",
       " 'https://rest.isric.org/soilgrids/v2.0/properties/query?lon=8.987752139816028&lat=56.21024808094749&property=clay&property=sand&property=silt&property=ocs&depth=0-5cm&depth=5-15cm&depth=15-30cm&depth=0-30cm&value=mean',\n",
       " 'https://rest.isric.org/soilgrids/v2.0/properties/query?lon=8.779682391456648&lat=56.0176391652908&property=clay&property=sand&property=silt&property=ocs&depth=0-5cm&depth=5-15cm&depth=15-30cm&depth=0-30cm&value=mean',\n",
       " 'https://rest.isric.org/soilgrids/v2.0/properties/query?lon=8.762295023657993&lat=56.202571239886595&property=clay&property=sand&property=silt&property=ocs&depth=0-5cm&depth=5-15cm&depth=15-30cm&depth=0-30cm&value=mean',\n",
       " 'https://rest.isric.org/soilgrids/v2.0/properties/query?lon=9.247971699293831&lat=56.161202975661865&property=clay&property=sand&property=silt&property=ocs&depth=0-5cm&depth=5-15cm&depth=15-30cm&depth=0-30cm&value=mean',\n",
       " 'https://rest.isric.org/soilgrids/v2.0/properties/query?lon=8.978424173713735&lat=55.994067536591494&property=clay&property=sand&property=silt&property=ocs&depth=0-5cm&depth=5-15cm&depth=15-30cm&depth=0-30cm&value=mean',\n",
       " 'https://rest.isric.org/soilgrids/v2.0/properties/query?lon=9.260611122517123&lat=56.09279900796044&property=clay&property=sand&property=silt&property=ocs&depth=0-5cm&depth=5-15cm&depth=15-30cm&depth=0-30cm&value=mean']"
      ]
     },
     "execution_count": 2,
     "metadata": {},
     "output_type": "execute_result"
    }
   ],
   "source": [
    "[point.url for point in collect.soildatapoints[:10]]"
   ]
  },
  {
   "cell_type": "markdown",
   "metadata": {},
   "source": [
    "To make the call to the API, and retrieve the data, we use the `get_data()` method:"
   ]
  },
  {
   "cell_type": "code",
   "execution_count": null,
   "metadata": {},
   "outputs": [],
   "source": [
    "df = collect.get_data()\n"
   ]
  },
  {
   "cell_type": "markdown",
   "metadata": {},
   "source": [
    "This stores the data in the object as well: you can retrieve it with `collect.df`.\n",
    "\n",
    "### Calculate soil properties\n",
    "We want to check for each point what the dominant soil type is.\n",
    "To do this, we check for the three properties sand, clay, and silt, which has the highest value for each point."
   ]
  },
  {
   "cell_type": "code",
   "execution_count": null,
   "metadata": {},
   "outputs": [],
   "source": [
    "top = collect.top_property(['clay', 'sand', 'silt'])\n",
    "\n",
    "top"
   ]
  },
  {
   "cell_type": "markdown",
   "metadata": {},
   "source": [
    "### Correlate soil properties\n",
    "\n",
    "To investigate how soil properties correlate to each other, we set up a linear regression model.\n",
    "\n",
    "The formula we use is `clay + sand + silt ~ ocs`.\n",
    "We use the `regression` method to set up the model."
   ]
  },
  {
   "cell_type": "code",
   "execution_count": null,
   "metadata": {},
   "outputs": [],
   "source": [
    "model = collect.regression(formula = \"clay + sand + silt ~ ocs\")"
   ]
  },
  {
   "cell_type": "markdown",
   "metadata": {},
   "source": [
    "Running the model should print summary statistics to the screen.\n",
    "However, the main statistics are also stored in the model's `stats` attribute:"
   ]
  },
  {
   "cell_type": "code",
   "execution_count": null,
   "metadata": {},
   "outputs": [],
   "source": [
    "model.stats"
   ]
  }
 ],
 "metadata": {
  "kernelspec": {
   "display_name": "venv",
   "language": "python",
   "name": "python3"
  },
  "language_info": {
   "codemirror_mode": {
    "name": "ipython",
    "version": 3
   },
   "file_extension": ".py",
   "mimetype": "text/x-python",
   "name": "python",
   "nbconvert_exporter": "python",
   "pygments_lexer": "ipython3",
   "version": "3.8.16"
  }
 },
 "nbformat": 4,
 "nbformat_minor": 2
}
